{
 "cells": [
  {
   "cell_type": "code",
   "execution_count": 3,
   "metadata": {},
   "outputs": [
    {
     "name": "stdout",
     "output_type": "stream",
     "text": [
      "   transaction_id  customer_id  merchant_id    amount  transaction_time  \\\n",
      "0             1.0     684415.0       2028.0  1262.770  11/24/2023 22:39   \n",
      "1             2.0     447448.0       2046.0  2222.928  03/30/2024 16:18   \n",
      "2             3.0     975001.0       2067.0  7509.832  03/07/2024 18:27   \n",
      "3             4.0     976547.0          NaN  2782.965  02/01/2024 00:58   \n",
      "4             5.0     935741.0       2044.0       NaN  12/22/2023 18:42   \n",
      "\n",
      "   is_fraudulent   card_type   location purchase_category  customer_age  \\\n",
      "0            0.0       Rupay  Bangalore               NaN          28.0   \n",
      "1            0.0  MasterCard      Surat               POS          62.0   \n",
      "2            0.0  MasterCard  Hyderabad               POS          24.0   \n",
      "3            0.0       Rupay  Hyderabad           Digital          62.0   \n",
      "4            0.0         NaN  Bangalore           Digital          19.0   \n",
      "\n",
      "           fraud_type  \n",
      "0      Identity theft  \n",
      "1             Malware  \n",
      "2             Malware  \n",
      "3  Payment card fraud  \n",
      "4                scam  \n"
     ]
    }
   ],
   "source": [
    "import pandas as pd\n",
    "\n",
    "df  = pd.read_csv(r\"C:\\Users\\USER\\Desktop\\HACKATHONS\\e-cell hackathon\\Dataset\\Updated_Inclusive_Indian_Online_Scam_Dataset.csv\")\n",
    "\n",
    "print(df.head())"
   ]
  },
  {
   "cell_type": "code",
   "execution_count": 4,
   "metadata": {},
   "outputs": [
    {
     "name": "stdout",
     "output_type": "stream",
     "text": [
      "transaction_id       475\n",
      "customer_id          421\n",
      "merchant_id          472\n",
      "amount               692\n",
      "transaction_time     568\n",
      "is_fraudulent        725\n",
      "card_type            567\n",
      "location             523\n",
      "purchase_category    532\n",
      "customer_age         668\n",
      "fraud_type           498\n",
      "dtype: int64\n"
     ]
    }
   ],
   "source": [
    "print(df.isnull().sum())"
   ]
  },
  {
   "cell_type": "code",
   "execution_count": 5,
   "metadata": {},
   "outputs": [],
   "source": [
    "df_cleaned = df.dropna(subset=['transaction_id',  'customer_id',  'merchant_id',    'amount',  'transaction_time',  'is_fraudulent',   'card_type',  'location', 'purchase_category',  'customer_age', 'fraud_type'  ])"
   ]
  },
  {
   "cell_type": "code",
   "execution_count": 6,
   "metadata": {},
   "outputs": [
    {
     "name": "stdout",
     "output_type": "stream",
     "text": [
      "38929\n",
      "<class 'pandas.core.frame.DataFrame'>\n",
      "Index: 3539 entries, 1 to 7951\n",
      "Data columns (total 11 columns):\n",
      " #   Column             Non-Null Count  Dtype  \n",
      "---  ------             --------------  -----  \n",
      " 0   transaction_id     3539 non-null   float64\n",
      " 1   customer_id        3539 non-null   float64\n",
      " 2   merchant_id        3539 non-null   float64\n",
      " 3   amount             3539 non-null   float64\n",
      " 4   transaction_time   3539 non-null   object \n",
      " 5   is_fraudulent      3539 non-null   float64\n",
      " 6   card_type          3539 non-null   object \n",
      " 7   location           3539 non-null   object \n",
      " 8   purchase_category  3539 non-null   object \n",
      " 9   customer_age       3539 non-null   float64\n",
      " 10  fraud_type         3539 non-null   object \n",
      "dtypes: float64(6), object(5)\n",
      "memory usage: 331.8+ KB\n"
     ]
    }
   ],
   "source": [
    "print(df_cleaned.size)\n",
    "df_cleaned.info()"
   ]
  },
  {
   "cell_type": "code",
   "execution_count": 7,
   "metadata": {},
   "outputs": [
    {
     "name": "stderr",
     "output_type": "stream",
     "text": [
      "C:\\Users\\USER\\AppData\\Local\\Temp\\ipykernel_13576\\1002443672.py:1: SettingWithCopyWarning: \n",
      "A value is trying to be set on a copy of a slice from a DataFrame.\n",
      "Try using .loc[row_indexer,col_indexer] = value instead\n",
      "\n",
      "See the caveats in the documentation: https://pandas.pydata.org/pandas-docs/stable/user_guide/indexing.html#returning-a-view-versus-a-copy\n",
      "  df_cleaned['transaction_time'] = pd.to_datetime(df_cleaned['transaction_time'], format = '%m/%d/%Y %H:%M')\n"
     ]
    }
   ],
   "source": [
    "df_cleaned['transaction_time'] = pd.to_datetime(df_cleaned['transaction_time'], format = '%m/%d/%Y %H:%M')"
   ]
  },
  {
   "cell_type": "code",
   "execution_count": 8,
   "metadata": {},
   "outputs": [
    {
     "name": "stdout",
     "output_type": "stream",
     "text": [
      "transaction_id       0\n",
      "customer_id          0\n",
      "merchant_id          0\n",
      "amount               0\n",
      "transaction_time     0\n",
      "is_fraudulent        0\n",
      "card_type            0\n",
      "location             0\n",
      "purchase_category    0\n",
      "customer_age         0\n",
      "fraud_type           0\n",
      "dtype: int64\n"
     ]
    }
   ],
   "source": [
    "print(df_cleaned.isnull().sum())"
   ]
  },
  {
   "cell_type": "code",
   "execution_count": 9,
   "metadata": {},
   "outputs": [
    {
     "data": {
      "text/html": [
       "<div>\n",
       "<style scoped>\n",
       "    .dataframe tbody tr th:only-of-type {\n",
       "        vertical-align: middle;\n",
       "    }\n",
       "\n",
       "    .dataframe tbody tr th {\n",
       "        vertical-align: top;\n",
       "    }\n",
       "\n",
       "    .dataframe thead th {\n",
       "        text-align: right;\n",
       "    }\n",
       "</style>\n",
       "<table border=\"1\" class=\"dataframe\">\n",
       "  <thead>\n",
       "    <tr style=\"text-align: right;\">\n",
       "      <th></th>\n",
       "      <th>transaction_id</th>\n",
       "      <th>customer_id</th>\n",
       "      <th>merchant_id</th>\n",
       "      <th>amount</th>\n",
       "      <th>transaction_time</th>\n",
       "      <th>is_fraudulent</th>\n",
       "      <th>card_type</th>\n",
       "      <th>location</th>\n",
       "      <th>purchase_category</th>\n",
       "      <th>customer_age</th>\n",
       "      <th>fraud_type</th>\n",
       "    </tr>\n",
       "  </thead>\n",
       "  <tbody>\n",
       "    <tr>\n",
       "      <th>1</th>\n",
       "      <td>2.0</td>\n",
       "      <td>447448.0</td>\n",
       "      <td>2046.0</td>\n",
       "      <td>2222.928</td>\n",
       "      <td>2024-03-30 16:18:00</td>\n",
       "      <td>0.0</td>\n",
       "      <td>MasterCard</td>\n",
       "      <td>Surat</td>\n",
       "      <td>POS</td>\n",
       "      <td>62.0</td>\n",
       "      <td>Malware</td>\n",
       "    </tr>\n",
       "    <tr>\n",
       "      <th>2</th>\n",
       "      <td>3.0</td>\n",
       "      <td>975001.0</td>\n",
       "      <td>2067.0</td>\n",
       "      <td>7509.832</td>\n",
       "      <td>2024-03-07 18:27:00</td>\n",
       "      <td>0.0</td>\n",
       "      <td>MasterCard</td>\n",
       "      <td>Hyderabad</td>\n",
       "      <td>POS</td>\n",
       "      <td>24.0</td>\n",
       "      <td>Malware</td>\n",
       "    </tr>\n",
       "    <tr>\n",
       "      <th>8</th>\n",
       "      <td>9.0</td>\n",
       "      <td>401388.0</td>\n",
       "      <td>2035.0</td>\n",
       "      <td>3904.200</td>\n",
       "      <td>2024-01-09 00:43:00</td>\n",
       "      <td>0.0</td>\n",
       "      <td>Visa</td>\n",
       "      <td>Kolkata</td>\n",
       "      <td>Digital</td>\n",
       "      <td>37.0</td>\n",
       "      <td>Malware</td>\n",
       "    </tr>\n",
       "    <tr>\n",
       "      <th>11</th>\n",
       "      <td>12.0</td>\n",
       "      <td>620576.0</td>\n",
       "      <td>2042.0</td>\n",
       "      <td>8069.630</td>\n",
       "      <td>2023-12-17 07:43:00</td>\n",
       "      <td>0.0</td>\n",
       "      <td>Rupay</td>\n",
       "      <td>Hyderabad</td>\n",
       "      <td>POS</td>\n",
       "      <td>33.0</td>\n",
       "      <td>Malware</td>\n",
       "    </tr>\n",
       "    <tr>\n",
       "      <th>14</th>\n",
       "      <td>15.0</td>\n",
       "      <td>679113.0</td>\n",
       "      <td>2019.0</td>\n",
       "      <td>11429.748</td>\n",
       "      <td>2023-09-10 23:01:00</td>\n",
       "      <td>1.0</td>\n",
       "      <td>Visa</td>\n",
       "      <td>Mumbai</td>\n",
       "      <td>Digital</td>\n",
       "      <td>24.0</td>\n",
       "      <td>Payment card fraud</td>\n",
       "    </tr>\n",
       "  </tbody>\n",
       "</table>\n",
       "</div>"
      ],
      "text/plain": [
       "    transaction_id  customer_id  merchant_id     amount    transaction_time  \\\n",
       "1              2.0     447448.0       2046.0   2222.928 2024-03-30 16:18:00   \n",
       "2              3.0     975001.0       2067.0   7509.832 2024-03-07 18:27:00   \n",
       "8              9.0     401388.0       2035.0   3904.200 2024-01-09 00:43:00   \n",
       "11            12.0     620576.0       2042.0   8069.630 2023-12-17 07:43:00   \n",
       "14            15.0     679113.0       2019.0  11429.748 2023-09-10 23:01:00   \n",
       "\n",
       "    is_fraudulent   card_type   location purchase_category  customer_age  \\\n",
       "1             0.0  MasterCard      Surat               POS          62.0   \n",
       "2             0.0  MasterCard  Hyderabad               POS          24.0   \n",
       "8             0.0        Visa    Kolkata           Digital          37.0   \n",
       "11            0.0       Rupay  Hyderabad               POS          33.0   \n",
       "14            1.0        Visa     Mumbai           Digital          24.0   \n",
       "\n",
       "            fraud_type  \n",
       "1              Malware  \n",
       "2              Malware  \n",
       "8              Malware  \n",
       "11             Malware  \n",
       "14  Payment card fraud  "
      ]
     },
     "execution_count": 9,
     "metadata": {},
     "output_type": "execute_result"
    }
   ],
   "source": [
    "df_cleaned.head()"
   ]
  },
  {
   "cell_type": "code",
   "execution_count": 10,
   "metadata": {},
   "outputs": [
    {
     "name": "stderr",
     "output_type": "stream",
     "text": [
      "C:\\Users\\USER\\AppData\\Local\\Temp\\ipykernel_13576\\1745395014.py:1: SettingWithCopyWarning: \n",
      "A value is trying to be set on a copy of a slice from a DataFrame\n",
      "\n",
      "See the caveats in the documentation: https://pandas.pydata.org/pandas-docs/stable/user_guide/indexing.html#returning-a-view-versus-a-copy\n",
      "  df_cleaned.rename(columns={'is_fraudulent' : 'fraud'}, inplace=True)\n"
     ]
    },
    {
     "data": {
      "text/html": [
       "<div>\n",
       "<style scoped>\n",
       "    .dataframe tbody tr th:only-of-type {\n",
       "        vertical-align: middle;\n",
       "    }\n",
       "\n",
       "    .dataframe tbody tr th {\n",
       "        vertical-align: top;\n",
       "    }\n",
       "\n",
       "    .dataframe thead th {\n",
       "        text-align: right;\n",
       "    }\n",
       "</style>\n",
       "<table border=\"1\" class=\"dataframe\">\n",
       "  <thead>\n",
       "    <tr style=\"text-align: right;\">\n",
       "      <th></th>\n",
       "      <th>transaction_id</th>\n",
       "      <th>customer_id</th>\n",
       "      <th>merchant_id</th>\n",
       "      <th>amount</th>\n",
       "      <th>transaction_time</th>\n",
       "      <th>fraud</th>\n",
       "      <th>card_type</th>\n",
       "      <th>location</th>\n",
       "      <th>purchase_category</th>\n",
       "      <th>customer_age</th>\n",
       "      <th>fraud_type</th>\n",
       "    </tr>\n",
       "  </thead>\n",
       "  <tbody>\n",
       "    <tr>\n",
       "      <th>1</th>\n",
       "      <td>2.0</td>\n",
       "      <td>447448.0</td>\n",
       "      <td>2046.0</td>\n",
       "      <td>2222.928</td>\n",
       "      <td>2024-03-30 16:18:00</td>\n",
       "      <td>0.0</td>\n",
       "      <td>MasterCard</td>\n",
       "      <td>Surat</td>\n",
       "      <td>POS</td>\n",
       "      <td>62.0</td>\n",
       "      <td>Malware</td>\n",
       "    </tr>\n",
       "    <tr>\n",
       "      <th>2</th>\n",
       "      <td>3.0</td>\n",
       "      <td>975001.0</td>\n",
       "      <td>2067.0</td>\n",
       "      <td>7509.832</td>\n",
       "      <td>2024-03-07 18:27:00</td>\n",
       "      <td>0.0</td>\n",
       "      <td>MasterCard</td>\n",
       "      <td>Hyderabad</td>\n",
       "      <td>POS</td>\n",
       "      <td>24.0</td>\n",
       "      <td>Malware</td>\n",
       "    </tr>\n",
       "    <tr>\n",
       "      <th>8</th>\n",
       "      <td>9.0</td>\n",
       "      <td>401388.0</td>\n",
       "      <td>2035.0</td>\n",
       "      <td>3904.200</td>\n",
       "      <td>2024-01-09 00:43:00</td>\n",
       "      <td>0.0</td>\n",
       "      <td>Visa</td>\n",
       "      <td>Kolkata</td>\n",
       "      <td>Digital</td>\n",
       "      <td>37.0</td>\n",
       "      <td>Malware</td>\n",
       "    </tr>\n",
       "    <tr>\n",
       "      <th>11</th>\n",
       "      <td>12.0</td>\n",
       "      <td>620576.0</td>\n",
       "      <td>2042.0</td>\n",
       "      <td>8069.630</td>\n",
       "      <td>2023-12-17 07:43:00</td>\n",
       "      <td>0.0</td>\n",
       "      <td>Rupay</td>\n",
       "      <td>Hyderabad</td>\n",
       "      <td>POS</td>\n",
       "      <td>33.0</td>\n",
       "      <td>Malware</td>\n",
       "    </tr>\n",
       "    <tr>\n",
       "      <th>14</th>\n",
       "      <td>15.0</td>\n",
       "      <td>679113.0</td>\n",
       "      <td>2019.0</td>\n",
       "      <td>11429.748</td>\n",
       "      <td>2023-09-10 23:01:00</td>\n",
       "      <td>1.0</td>\n",
       "      <td>Visa</td>\n",
       "      <td>Mumbai</td>\n",
       "      <td>Digital</td>\n",
       "      <td>24.0</td>\n",
       "      <td>Payment card fraud</td>\n",
       "    </tr>\n",
       "  </tbody>\n",
       "</table>\n",
       "</div>"
      ],
      "text/plain": [
       "    transaction_id  customer_id  merchant_id     amount    transaction_time  \\\n",
       "1              2.0     447448.0       2046.0   2222.928 2024-03-30 16:18:00   \n",
       "2              3.0     975001.0       2067.0   7509.832 2024-03-07 18:27:00   \n",
       "8              9.0     401388.0       2035.0   3904.200 2024-01-09 00:43:00   \n",
       "11            12.0     620576.0       2042.0   8069.630 2023-12-17 07:43:00   \n",
       "14            15.0     679113.0       2019.0  11429.748 2023-09-10 23:01:00   \n",
       "\n",
       "    fraud   card_type   location purchase_category  customer_age  \\\n",
       "1     0.0  MasterCard      Surat               POS          62.0   \n",
       "2     0.0  MasterCard  Hyderabad               POS          24.0   \n",
       "8     0.0        Visa    Kolkata           Digital          37.0   \n",
       "11    0.0       Rupay  Hyderabad               POS          33.0   \n",
       "14    1.0        Visa     Mumbai           Digital          24.0   \n",
       "\n",
       "            fraud_type  \n",
       "1              Malware  \n",
       "2              Malware  \n",
       "8              Malware  \n",
       "11             Malware  \n",
       "14  Payment card fraud  "
      ]
     },
     "execution_count": 10,
     "metadata": {},
     "output_type": "execute_result"
    }
   ],
   "source": [
    "df_cleaned.rename(columns={'is_fraudulent' : 'fraud'}, inplace=True)\n",
    "df_cleaned.head()"
   ]
  },
  {
   "cell_type": "code",
   "execution_count": 11,
   "metadata": {},
   "outputs": [
    {
     "name": "stdout",
     "output_type": "stream",
     "text": [
      "transaction_id       0\n",
      "customer_id          0\n",
      "merchant_id          0\n",
      "amount               0\n",
      "transaction_time     0\n",
      "fraud                0\n",
      "card_type            0\n",
      "location             0\n",
      "purchase_category    0\n",
      "customer_age         0\n",
      "fraud_type           0\n",
      "dtype: int64\n"
     ]
    }
   ],
   "source": [
    "\n",
    "print(df_cleaned.isnull().sum())"
   ]
  },
  {
   "cell_type": "code",
   "execution_count": 12,
   "metadata": {},
   "outputs": [],
   "source": [
    " \n",
    "df_cleaned = df.dropna(subset=['transaction_id','customer_id','merchant_id','amount','transaction_time','is_fraudulent','customer_age'])  "
   ]
  },
  {
   "cell_type": "code",
   "execution_count": 13,
   "metadata": {},
   "outputs": [
    {
     "name": "stdout",
     "output_type": "stream",
     "text": [
      "<class 'pandas.core.frame.DataFrame'>\n",
      "Index: 4660 entries, 0 to 7951\n",
      "Data columns (total 11 columns):\n",
      " #   Column             Non-Null Count  Dtype  \n",
      "---  ------             --------------  -----  \n",
      " 0   transaction_id     4660 non-null   float64\n",
      " 1   customer_id        4660 non-null   float64\n",
      " 2   merchant_id        4660 non-null   float64\n",
      " 3   amount             4660 non-null   float64\n",
      " 4   transaction_time   4660 non-null   object \n",
      " 5   is_fraudulent      4660 non-null   float64\n",
      " 6   card_type          4282 non-null   object \n",
      " 7   location           4386 non-null   object \n",
      " 8   purchase_category  4350 non-null   object \n",
      " 9   customer_age       4660 non-null   float64\n",
      " 10  fraud_type         4340 non-null   object \n",
      "dtypes: float64(6), object(5)\n",
      "memory usage: 436.9+ KB\n"
     ]
    }
   ],
   "source": [
    "df_cleaned.info()"
   ]
  },
  {
   "cell_type": "code",
   "execution_count": 14,
   "metadata": {},
   "outputs": [],
   "source": [
    "df_cleaned = pd.get_dummies(df, columns= [\"card_type\",\"location\",\"purchase_category\",\"fraud_type\"])"
   ]
  },
  {
   "cell_type": "code",
   "execution_count": 15,
   "metadata": {},
   "outputs": [
    {
     "data": {
      "text/html": [
       "<div>\n",
       "<style scoped>\n",
       "    .dataframe tbody tr th:only-of-type {\n",
       "        vertical-align: middle;\n",
       "    }\n",
       "\n",
       "    .dataframe tbody tr th {\n",
       "        vertical-align: top;\n",
       "    }\n",
       "\n",
       "    .dataframe thead th {\n",
       "        text-align: right;\n",
       "    }\n",
       "</style>\n",
       "<table border=\"1\" class=\"dataframe\">\n",
       "  <thead>\n",
       "    <tr style=\"text-align: right;\">\n",
       "      <th></th>\n",
       "      <th>transaction_id</th>\n",
       "      <th>customer_id</th>\n",
       "      <th>merchant_id</th>\n",
       "      <th>amount</th>\n",
       "      <th>transaction_time</th>\n",
       "      <th>fraud</th>\n",
       "      <th>customer_age</th>\n",
       "      <th>card_type_MasterCard</th>\n",
       "      <th>card_type_Rupay</th>\n",
       "      <th>card_type_Visa</th>\n",
       "      <th>...</th>\n",
       "      <th>location_Mumbai</th>\n",
       "      <th>location_Pune</th>\n",
       "      <th>location_Surat</th>\n",
       "      <th>purchase_category_Digital</th>\n",
       "      <th>purchase_category_POS</th>\n",
       "      <th>fraud_type_Identity theft</th>\n",
       "      <th>fraud_type_Malware</th>\n",
       "      <th>fraud_type_Payment card fraud</th>\n",
       "      <th>fraud_type_phishing</th>\n",
       "      <th>fraud_type_scam</th>\n",
       "    </tr>\n",
       "  </thead>\n",
       "  <tbody>\n",
       "    <tr>\n",
       "      <th>0</th>\n",
       "      <td>1.0</td>\n",
       "      <td>684415.0</td>\n",
       "      <td>2028.0</td>\n",
       "      <td>1262.770</td>\n",
       "      <td>11/24/2023 22:39</td>\n",
       "      <td>0.0</td>\n",
       "      <td>28.0</td>\n",
       "      <td>False</td>\n",
       "      <td>True</td>\n",
       "      <td>False</td>\n",
       "      <td>...</td>\n",
       "      <td>False</td>\n",
       "      <td>False</td>\n",
       "      <td>False</td>\n",
       "      <td>False</td>\n",
       "      <td>False</td>\n",
       "      <td>True</td>\n",
       "      <td>False</td>\n",
       "      <td>False</td>\n",
       "      <td>False</td>\n",
       "      <td>False</td>\n",
       "    </tr>\n",
       "    <tr>\n",
       "      <th>1</th>\n",
       "      <td>2.0</td>\n",
       "      <td>447448.0</td>\n",
       "      <td>2046.0</td>\n",
       "      <td>2222.928</td>\n",
       "      <td>03/30/2024 16:18</td>\n",
       "      <td>0.0</td>\n",
       "      <td>62.0</td>\n",
       "      <td>True</td>\n",
       "      <td>False</td>\n",
       "      <td>False</td>\n",
       "      <td>...</td>\n",
       "      <td>False</td>\n",
       "      <td>False</td>\n",
       "      <td>True</td>\n",
       "      <td>False</td>\n",
       "      <td>True</td>\n",
       "      <td>False</td>\n",
       "      <td>True</td>\n",
       "      <td>False</td>\n",
       "      <td>False</td>\n",
       "      <td>False</td>\n",
       "    </tr>\n",
       "    <tr>\n",
       "      <th>2</th>\n",
       "      <td>3.0</td>\n",
       "      <td>975001.0</td>\n",
       "      <td>2067.0</td>\n",
       "      <td>7509.832</td>\n",
       "      <td>03/07/2024 18:27</td>\n",
       "      <td>0.0</td>\n",
       "      <td>24.0</td>\n",
       "      <td>True</td>\n",
       "      <td>False</td>\n",
       "      <td>False</td>\n",
       "      <td>...</td>\n",
       "      <td>False</td>\n",
       "      <td>False</td>\n",
       "      <td>False</td>\n",
       "      <td>False</td>\n",
       "      <td>True</td>\n",
       "      <td>False</td>\n",
       "      <td>True</td>\n",
       "      <td>False</td>\n",
       "      <td>False</td>\n",
       "      <td>False</td>\n",
       "    </tr>\n",
       "    <tr>\n",
       "      <th>3</th>\n",
       "      <td>4.0</td>\n",
       "      <td>976547.0</td>\n",
       "      <td>NaN</td>\n",
       "      <td>2782.965</td>\n",
       "      <td>02/01/2024 00:58</td>\n",
       "      <td>0.0</td>\n",
       "      <td>62.0</td>\n",
       "      <td>False</td>\n",
       "      <td>True</td>\n",
       "      <td>False</td>\n",
       "      <td>...</td>\n",
       "      <td>False</td>\n",
       "      <td>False</td>\n",
       "      <td>False</td>\n",
       "      <td>True</td>\n",
       "      <td>False</td>\n",
       "      <td>False</td>\n",
       "      <td>False</td>\n",
       "      <td>True</td>\n",
       "      <td>False</td>\n",
       "      <td>False</td>\n",
       "    </tr>\n",
       "    <tr>\n",
       "      <th>4</th>\n",
       "      <td>5.0</td>\n",
       "      <td>935741.0</td>\n",
       "      <td>2044.0</td>\n",
       "      <td>NaN</td>\n",
       "      <td>12/22/2023 18:42</td>\n",
       "      <td>0.0</td>\n",
       "      <td>19.0</td>\n",
       "      <td>False</td>\n",
       "      <td>False</td>\n",
       "      <td>False</td>\n",
       "      <td>...</td>\n",
       "      <td>False</td>\n",
       "      <td>False</td>\n",
       "      <td>False</td>\n",
       "      <td>True</td>\n",
       "      <td>False</td>\n",
       "      <td>False</td>\n",
       "      <td>False</td>\n",
       "      <td>False</td>\n",
       "      <td>False</td>\n",
       "      <td>True</td>\n",
       "    </tr>\n",
       "  </tbody>\n",
       "</table>\n",
       "<p>5 rows × 27 columns</p>\n",
       "</div>"
      ],
      "text/plain": [
       "   transaction_id  customer_id  merchant_id    amount  transaction_time  \\\n",
       "0             1.0     684415.0       2028.0  1262.770  11/24/2023 22:39   \n",
       "1             2.0     447448.0       2046.0  2222.928  03/30/2024 16:18   \n",
       "2             3.0     975001.0       2067.0  7509.832  03/07/2024 18:27   \n",
       "3             4.0     976547.0          NaN  2782.965  02/01/2024 00:58   \n",
       "4             5.0     935741.0       2044.0       NaN  12/22/2023 18:42   \n",
       "\n",
       "   fraud  customer_age  card_type_MasterCard  card_type_Rupay  card_type_Visa  \\\n",
       "0    0.0          28.0                 False             True           False   \n",
       "1    0.0          62.0                  True            False           False   \n",
       "2    0.0          24.0                  True            False           False   \n",
       "3    0.0          62.0                 False             True           False   \n",
       "4    0.0          19.0                 False            False           False   \n",
       "\n",
       "   ...  location_Mumbai  location_Pune  location_Surat  \\\n",
       "0  ...            False          False           False   \n",
       "1  ...            False          False            True   \n",
       "2  ...            False          False           False   \n",
       "3  ...            False          False           False   \n",
       "4  ...            False          False           False   \n",
       "\n",
       "   purchase_category_Digital  purchase_category_POS  \\\n",
       "0                      False                  False   \n",
       "1                      False                   True   \n",
       "2                      False                   True   \n",
       "3                       True                  False   \n",
       "4                       True                  False   \n",
       "\n",
       "   fraud_type_Identity theft  fraud_type_Malware  \\\n",
       "0                       True               False   \n",
       "1                      False                True   \n",
       "2                      False                True   \n",
       "3                      False               False   \n",
       "4                      False               False   \n",
       "\n",
       "   fraud_type_Payment card fraud  fraud_type_phishing  fraud_type_scam  \n",
       "0                          False                False            False  \n",
       "1                          False                False            False  \n",
       "2                          False                False            False  \n",
       "3                           True                False            False  \n",
       "4                          False                False             True  \n",
       "\n",
       "[5 rows x 27 columns]"
      ]
     },
     "execution_count": 15,
     "metadata": {},
     "output_type": "execute_result"
    }
   ],
   "source": [
    "df_cleaned.rename(columns={'is_fraudulent' : 'fraud'}, inplace=True)\n",
    "df_cleaned.head()"
   ]
  },
  {
   "cell_type": "code",
   "execution_count": 16,
   "metadata": {},
   "outputs": [
    {
     "name": "stdout",
     "output_type": "stream",
     "text": [
      "<class 'pandas.core.frame.DataFrame'>\n",
      "RangeIndex: 7953 entries, 0 to 7952\n",
      "Data columns (total 27 columns):\n",
      " #   Column                         Non-Null Count  Dtype  \n",
      "---  ------                         --------------  -----  \n",
      " 0   transaction_id                 7478 non-null   float64\n",
      " 1   customer_id                    7532 non-null   float64\n",
      " 2   merchant_id                    7481 non-null   float64\n",
      " 3   amount                         7261 non-null   float64\n",
      " 4   transaction_time               7385 non-null   object \n",
      " 5   fraud                          7228 non-null   float64\n",
      " 6   customer_age                   7285 non-null   float64\n",
      " 7   card_type_MasterCard           7953 non-null   bool   \n",
      " 8   card_type_Rupay                7953 non-null   bool   \n",
      " 9   card_type_Visa                 7953 non-null   bool   \n",
      " 10  location_Ahmedabad             7953 non-null   bool   \n",
      " 11  location_Bangalore             7953 non-null   bool   \n",
      " 12  location_Chennai               7953 non-null   bool   \n",
      " 13  location_Delhi                 7953 non-null   bool   \n",
      " 14  location_Hyderabad             7953 non-null   bool   \n",
      " 15  location_Jaipur                7953 non-null   bool   \n",
      " 16  location_Kolkata               7953 non-null   bool   \n",
      " 17  location_Mumbai                7953 non-null   bool   \n",
      " 18  location_Pune                  7953 non-null   bool   \n",
      " 19  location_Surat                 7953 non-null   bool   \n",
      " 20  purchase_category_Digital      7953 non-null   bool   \n",
      " 21  purchase_category_POS          7953 non-null   bool   \n",
      " 22  fraud_type_Identity theft      7953 non-null   bool   \n",
      " 23  fraud_type_Malware             7953 non-null   bool   \n",
      " 24  fraud_type_Payment card fraud  7953 non-null   bool   \n",
      " 25  fraud_type_phishing            7953 non-null   bool   \n",
      " 26  fraud_type_scam                7953 non-null   bool   \n",
      "dtypes: bool(20), float64(6), object(1)\n",
      "memory usage: 590.4+ KB\n"
     ]
    }
   ],
   "source": [
    "df_cleaned.info()"
   ]
  },
  {
   "cell_type": "code",
   "execution_count": 17,
   "metadata": {},
   "outputs": [
    {
     "name": "stdout",
     "output_type": "stream",
     "text": [
      "transaction_id                   475\n",
      "customer_id                      421\n",
      "merchant_id                      472\n",
      "amount                           692\n",
      "transaction_time                 568\n",
      "fraud                            725\n",
      "customer_age                     668\n",
      "card_type_MasterCard               0\n",
      "card_type_Rupay                    0\n",
      "card_type_Visa                     0\n",
      "location_Ahmedabad                 0\n",
      "location_Bangalore                 0\n",
      "location_Chennai                   0\n",
      "location_Delhi                     0\n",
      "location_Hyderabad                 0\n",
      "location_Jaipur                    0\n",
      "location_Kolkata                   0\n",
      "location_Mumbai                    0\n",
      "location_Pune                      0\n",
      "location_Surat                     0\n",
      "purchase_category_Digital          0\n",
      "purchase_category_POS              0\n",
      "fraud_type_Identity theft          0\n",
      "fraud_type_Malware                 0\n",
      "fraud_type_Payment card fraud      0\n",
      "fraud_type_phishing                0\n",
      "fraud_type_scam                    0\n",
      "dtype: int64\n"
     ]
    }
   ],
   "source": [
    "print(df_cleaned.isnull().sum())"
   ]
  },
  {
   "cell_type": "code",
   "execution_count": 18,
   "metadata": {},
   "outputs": [],
   "source": [
    "df_cleaned = df_cleaned.dropna(subset=['transaction_time', 'fraud','customer_age','amount','merchant_id','customer_id','transaction_id'])"
   ]
  },
  {
   "cell_type": "code",
   "execution_count": 19,
   "metadata": {},
   "outputs": [
    {
     "name": "stdout",
     "output_type": "stream",
     "text": [
      "<class 'pandas.core.frame.DataFrame'>\n",
      "Index: 4660 entries, 0 to 7951\n",
      "Data columns (total 27 columns):\n",
      " #   Column                         Non-Null Count  Dtype  \n",
      "---  ------                         --------------  -----  \n",
      " 0   transaction_id                 4660 non-null   float64\n",
      " 1   customer_id                    4660 non-null   float64\n",
      " 2   merchant_id                    4660 non-null   float64\n",
      " 3   amount                         4660 non-null   float64\n",
      " 4   transaction_time               4660 non-null   object \n",
      " 5   fraud                          4660 non-null   float64\n",
      " 6   customer_age                   4660 non-null   float64\n",
      " 7   card_type_MasterCard           4660 non-null   bool   \n",
      " 8   card_type_Rupay                4660 non-null   bool   \n",
      " 9   card_type_Visa                 4660 non-null   bool   \n",
      " 10  location_Ahmedabad             4660 non-null   bool   \n",
      " 11  location_Bangalore             4660 non-null   bool   \n",
      " 12  location_Chennai               4660 non-null   bool   \n",
      " 13  location_Delhi                 4660 non-null   bool   \n",
      " 14  location_Hyderabad             4660 non-null   bool   \n",
      " 15  location_Jaipur                4660 non-null   bool   \n",
      " 16  location_Kolkata               4660 non-null   bool   \n",
      " 17  location_Mumbai                4660 non-null   bool   \n",
      " 18  location_Pune                  4660 non-null   bool   \n",
      " 19  location_Surat                 4660 non-null   bool   \n",
      " 20  purchase_category_Digital      4660 non-null   bool   \n",
      " 21  purchase_category_POS          4660 non-null   bool   \n",
      " 22  fraud_type_Identity theft      4660 non-null   bool   \n",
      " 23  fraud_type_Malware             4660 non-null   bool   \n",
      " 24  fraud_type_Payment card fraud  4660 non-null   bool   \n",
      " 25  fraud_type_phishing            4660 non-null   bool   \n",
      " 26  fraud_type_scam                4660 non-null   bool   \n",
      "dtypes: bool(20), float64(6), object(1)\n",
      "memory usage: 382.3+ KB\n"
     ]
    }
   ],
   "source": [
    "df_cleaned.info()"
   ]
  },
  {
   "cell_type": "code",
   "execution_count": 20,
   "metadata": {},
   "outputs": [
    {
     "name": "stdout",
     "output_type": "stream",
     "text": [
      "transaction_id                   0\n",
      "customer_id                      0\n",
      "merchant_id                      0\n",
      "amount                           0\n",
      "transaction_time                 0\n",
      "fraud                            0\n",
      "customer_age                     0\n",
      "card_type_MasterCard             0\n",
      "card_type_Rupay                  0\n",
      "card_type_Visa                   0\n",
      "location_Ahmedabad               0\n",
      "location_Bangalore               0\n",
      "location_Chennai                 0\n",
      "location_Delhi                   0\n",
      "location_Hyderabad               0\n",
      "location_Jaipur                  0\n",
      "location_Kolkata                 0\n",
      "location_Mumbai                  0\n",
      "location_Pune                    0\n",
      "location_Surat                   0\n",
      "purchase_category_Digital        0\n",
      "purchase_category_POS            0\n",
      "fraud_type_Identity theft        0\n",
      "fraud_type_Malware               0\n",
      "fraud_type_Payment card fraud    0\n",
      "fraud_type_phishing              0\n",
      "fraud_type_scam                  0\n",
      "dtype: int64\n"
     ]
    }
   ],
   "source": [
    "print(df_cleaned.isnull().sum())"
   ]
  },
  {
   "cell_type": "code",
   "execution_count": 21,
   "metadata": {},
   "outputs": [],
   "source": [
    "from sklearn.model_selection import train_test_split\n",
    "\n",
    "x = df_cleaned.drop(columns= [\"fraud\"])\n",
    "y = df_cleaned[\"fraud\"]\n",
    "\n",
    "x_train, x_test, y_train, y_test = train_test_split(x,y,test_size= 0.2, random_state= 42 )"
   ]
  },
  {
   "cell_type": "code",
   "execution_count": null,
   "metadata": {},
   "outputs": [],
   "source": [
    "\n",
    "x_train['transaction_time'] = pd.to_datetime(x_train['transaction_time'])\n",
    "\n",
    "\n",
    "x_train['hour'] = x_train['transaction_time'].dt.hour\n",
    "x_train['day'] = x_train['transaction_time'].dt.day\n",
    "x_train['month'] = x_train['transaction_time'].dt.month\n",
    "x_train['weekday'] = x_train['transaction_time'].dt.dayofweek\n",
    "\n",
    "\n",
    "x_train = x_train.drop('transaction_time', axis=1)\n"
   ]
  },
  {
   "cell_type": "code",
   "execution_count": null,
   "metadata": {},
   "outputs": [],
   "source": [
    "from sklearn.preprocessing import StandardScaler\n",
    "\n",
    "\n",
    "for df_cleaned in [x_train, x_test]:\n",
    "    if 'transaction_time' in df_cleaned.columns:\n",
    "        df_cleaned['transaction_time'] = pd.to_datetime(df['transaction_time'])\n",
    "        df_cleaned['hour'] = df_cleaned['transaction_time'].dt.hour\n",
    "        df_cleaned['day'] = df_cleaned['transaction_time'].dt.day\n",
    "        df_cleaned['month'] = df_cleaned['transaction_time'].dt.month\n",
    "        df_cleaned['weekday'] = df_cleaned['transaction_time'].dt.dayofweek\n",
    "       \n",
    "        df_cleaned.drop('transaction_time', axis=1, inplace=True)\n",
    "\n",
    "\n",
    "scaler = StandardScaler()\n",
    "x_train_scaled = scaler.fit_transform(x_train)\n",
    "x_test_scaled = scaler.transform(x_test)\n"
   ]
  },
  {
   "cell_type": "code",
   "execution_count": 24,
   "metadata": {},
   "outputs": [
    {
     "data": {
      "text/plain": [
       "['C:\\\\Users\\\\USER\\\\Desktop\\\\HACKATHONS\\\\e-cell hackathon\\\\Models\\\\fraud_model.pkl']"
      ]
     },
     "execution_count": 24,
     "metadata": {},
     "output_type": "execute_result"
    }
   ],
   "source": [
    "from sklearn.linear_model import LogisticRegression\n",
    "\n",
    "model = LogisticRegression(solver = 'saga',max_iter= 1500000, tol= 1e-5, C= 1.0, random_state=42)\n",
    "model.fit(x_train_scaled,y_train)\n",
    "\n",
    "import joblib\n",
    "joblib.dump(model,r'C:\\Users\\USER\\Desktop\\HACKATHONS\\e-cell hackathon\\Models\\fraud_model.pkl')\n"
   ]
  },
  {
   "cell_type": "code",
   "execution_count": 25,
   "metadata": {},
   "outputs": [
    {
     "name": "stdout",
     "output_type": "stream",
     "text": [
      "accuracy: 0.6931330472103004\n"
     ]
    },
    {
     "name": "stderr",
     "output_type": "stream",
     "text": [
      "C:\\Users\\USER\\AppData\\Local\\Packages\\PythonSoftwareFoundation.Python.3.11_qbz5n2kfra8p0\\LocalCache\\local-packages\\Python311\\site-packages\\sklearn\\utils\\validation.py:2732: UserWarning: X has feature names, but LogisticRegression was fitted without feature names\n",
      "  warnings.warn(\n"
     ]
    }
   ],
   "source": [
    "y_pred = model.predict(x_test)\n",
    "\n",
    "from sklearn.metrics import accuracy_score\n",
    "print(\"accuracy:\", accuracy_score(y_test,y_pred))"
   ]
  },
  {
   "cell_type": "code",
   "execution_count": 26,
   "metadata": {},
   "outputs": [
    {
     "name": "stdout",
     "output_type": "stream",
     "text": [
      "Precision: 0.6176\n",
      "Recall: 0.0734\n",
      "F1 Score: 0.1313\n",
      "AUC-ROC: 0.6150\n"
     ]
    }
   ],
   "source": [
    "from sklearn.metrics import precision_recall_fscore_support, roc_auc_score\n",
    "\n",
    "y_pred = model.predict(x_test_scaled)\n",
    "precision, recall, f1, _ = precision_recall_fscore_support(y_test, y_pred, average='binary')\n",
    "auc = roc_auc_score(y_test, model.predict_proba(x_test_scaled)[:,1])\n",
    "\n",
    "print(f\"Precision: {precision:.4f}\")\n",
    "print(f\"Recall: {recall:.4f}\")\n",
    "print(f\"F1 Score: {f1:.4f}\")\n",
    "print(f\"AUC-ROC: {auc:.4f}\")\n"
   ]
  },
  {
   "cell_type": "code",
   "execution_count": null,
   "metadata": {},
   "outputs": [
    {
     "name": "stdout",
     "output_type": "stream",
     "text": [
      "Random Forest Accuracy: 0.9914\n"
     ]
    },
    {
     "data": {
      "text/plain": [
       "['C:\\\\Users\\\\USER\\\\Desktop\\\\HACKATHONS\\\\e-cell hackathon\\\\Models\\\\rf_fraud_model.pkl']"
      ]
     },
     "execution_count": 29,
     "metadata": {},
     "output_type": "execute_result"
    }
   ],
   "source": [
    "from sklearn.ensemble import RandomForestClassifier\n",
    "\n",
    "rf_model = RandomForestClassifier(\n",
    "    n_estimators=100,\n",
    "    max_depth=10,\n",
    "    min_samples_split=10,\n",
    "    class_weight='balanced',\n",
    "    random_state=42\n",
    ")\n",
    "rf_model.fit(x_train, y_train)\n",
    "\n",
    "\n",
    "rf_accuracy = rf_model.score(x_test, y_test)\n",
    "print(f\"Random Forest Accuracy: {rf_accuracy:.4f}\")\n",
    "\n",
    "joblib.dump(rf_model,r'C:\\Users\\USER\\Desktop\\HACKATHONS\\e-cell hackathon\\Models\\rf_fraud_model.pkl')\n"
   ]
  },
  {
   "cell_type": "code",
   "execution_count": null,
   "metadata": {},
   "outputs": [],
   "source": [
    "\n",
    "from sklearn.model_selection import GridSearchCV\n",
    "\n",
    "param_grid = {\n",
    "    'n_estimators': [100, 200],\n",
    "    'max_depth': [8, 10, 12],\n",
    "    'min_samples_split': [5, 10, 15],\n",
    "    'min_samples_leaf': [2, 4]\n",
    "}\n",
    "\n",
    "grid_search = GridSearchCV(\n",
    "    RandomForestClassifier(class_weight='balanced', random_state=42),\n",
    "    param_grid,\n",
    "    cv=5,\n",
    "    scoring='f1',\n",
    "    n_jobs=-1\n",
    ")\n",
    "\n",
    "grid_search.fit(x_train, y_train)\n",
    "best_rf_model = grid_search.best_estimator_\n"
   ]
  },
  {
   "cell_type": "code",
   "execution_count": 30,
   "metadata": {},
   "outputs": [
    {
     "name": "stdout",
     "output_type": "stream",
     "text": [
      "Best parameters: {'max_depth': 12, 'min_samples_leaf': 2, 'min_samples_split': 5, 'n_estimators': 200}\n",
      "Best cross-validation score: 0.9911437397731181\n"
     ]
    }
   ],
   "source": [
    "print(\"Best parameters:\", grid_search.best_params_)\n",
    "print(\"Best cross-validation score:\", grid_search.best_score_)\n"
   ]
  },
  {
   "cell_type": "code",
   "execution_count": null,
   "metadata": {},
   "outputs": [
    {
     "name": "stdout",
     "output_type": "stream",
     "text": [
      "Accuracy: 0.9946\n",
      "Precision: 0.9895\n",
      "Recall: 0.9930\n",
      "F1 Score: 0.9913\n",
      "AUC-ROC: 1.0000\n"
     ]
    }
   ],
   "source": [
    "y_pred = best_rf_model.predict(x_test)\n",
    "\n",
    "\n",
    "from sklearn.metrics import accuracy_score\n",
    "print(f\"Accuracy: {accuracy_score(y_test, y_pred):.4f}\")\n",
    "\n",
    "\n",
    "from sklearn.metrics import precision_recall_fscore_support, roc_auc_score\n",
    "precision, recall, f1, _ = precision_recall_fscore_support(y_test, y_pred, average='binary')\n",
    "auc = roc_auc_score(y_test, best_rf_model.predict_proba(x_test)[:,1])\n",
    "\n",
    "print(f\"Precision: {precision:.4f}\")\n",
    "print(f\"Recall: {recall:.4f}\")\n",
    "print(f\"F1 Score: {f1:.4f}\")\n",
    "print(f\"AUC-ROC: {auc:.4f}\")\n"
   ]
  },
  {
   "cell_type": "code",
   "execution_count": 32,
   "metadata": {},
   "outputs": [
    {
     "data": {
      "text/plain": [
       "['C:\\\\Users\\\\USER\\\\Desktop\\\\HACKATHONS\\\\e-cell hackathon\\\\Models\\\\best_rf_fraud_model.pkl']"
      ]
     },
     "execution_count": 32,
     "metadata": {},
     "output_type": "execute_result"
    }
   ],
   "source": [
    "import joblib\n",
    "joblib.dump(best_rf_model, r'C:\\Users\\USER\\Desktop\\HACKATHONS\\e-cell hackathon\\Models\\best_rf_fraud_model.pkl')\n"
   ]
  }
 ],
 "metadata": {
  "kernelspec": {
   "display_name": "Python 3",
   "language": "python",
   "name": "python3"
  },
  "language_info": {
   "codemirror_mode": {
    "name": "ipython",
    "version": 3
   },
   "file_extension": ".py",
   "mimetype": "text/x-python",
   "name": "python",
   "nbconvert_exporter": "python",
   "pygments_lexer": "ipython3",
   "version": "3.11.9"
  }
 },
 "nbformat": 4,
 "nbformat_minor": 2
}
